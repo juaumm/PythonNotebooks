{
 "cells": [
  {
   "cell_type": "markdown",
   "metadata": {},
   "source": [
    "# 🛍️ Análise de Vendas - Walmart \n",
    "\n",
    "## 🔍 Roteiro de Análises e Visualizações\n",
    "\n",
    "### 1. 📊 **Resumo Geral**\n",
    "- Receita total\n",
    "- Número total de clientes\n",
    "- Ticket médio por cliente\n",
    "- Total de clientes recorrentes\n",
    "\n",
    "### 2. 🧺 **Análises por Categoria e Produto**\n",
    "- Top 10 produtos mais vendidos\n",
    "- Categorias mais populares\n",
    "- Receita por categoria\n",
    "\n",
    "### 3. 🗺️ **Análises por Cidade ou Bairro**\n",
    "- Receita por cidade\n",
    "- Comparação de ticket médio entre cidades\n",
    "- Perfil demográfico por cidade\n",
    "\n",
    "### 4. 👤 **Comportamento do Cliente**\n",
    "- Distribuição por idade/gênero\n",
    "- Taxa de retorno (clientes recorrentes)\n",
    "- Avaliação média dos produtos\n",
    "\n",
    "### 5. 📈 **Vendas ao Longo do Tempo**\n",
    "- Gráfico de vendas por dia, semana ou mês\n",
    "- Efeito de descontos nas vendas\n",
    "\n",
    "### 6. 💳 **Forma de Pagamento**\n",
    "- Quais métodos são mais usados?\n",
    "- Comparar ticket médio por método\n",
    "\n",
    "---\n",
    "\n",
    "📌 Ao longo do projeto, gráficos, tabelas e comentários serão utilizados para facilitar a interpretação e sugerir melhorias no desempenho comercial com base nos dados disponíveis.\n"
   ]
  },
  {
   "cell_type": "code",
   "execution_count": 2,
   "metadata": {
    "id": "6_F7ZiVn2cfc"
   },
   "outputs": [],
   "source": [
    "#Importar bibliotecas\n",
    "import pandas as pd\n",
    "import numpy as np\n",
    "import matplotlib.pyplot as plt\n",
    "import seaborn as sns\n",
    "\n",
    "from io import BytesIO"
   ]
  },
  {
   "cell_type": "code",
   "execution_count": 3,
   "metadata": {
    "id": "aYvwhI-r24j1"
   },
   "outputs": [],
   "source": [
    "#Importar os dados\n",
    "df = pd.read_excel(r'C:\\Users\\jgmat\\Downloads\\archive\\data\\walmart_data.xlsx')"
   ]
  },
  {
   "cell_type": "code",
   "execution_count": 4,
   "metadata": {
    "colab": {
     "base_uri": "https://localhost:8080/",
     "height": 487
    },
    "id": "_cRFMW5L3Ktp",
    "outputId": "222319bb-66ca-471c-9081-a68fd5b67f75"
   },
   "outputs": [
    {
     "data": {
      "text/html": [
       "<div>\n",
       "<style scoped>\n",
       "    .dataframe tbody tr th:only-of-type {\n",
       "        vertical-align: middle;\n",
       "    }\n",
       "\n",
       "    .dataframe tbody tr th {\n",
       "        vertical-align: top;\n",
       "    }\n",
       "\n",
       "    .dataframe thead th {\n",
       "        text-align: right;\n",
       "    }\n",
       "</style>\n",
       "<table border=\"1\" class=\"dataframe\">\n",
       "  <thead>\n",
       "    <tr style=\"text-align: right;\">\n",
       "      <th></th>\n",
       "      <th>Customer_ID</th>\n",
       "      <th>Age</th>\n",
       "      <th>Gender</th>\n",
       "      <th>City</th>\n",
       "      <th>Category</th>\n",
       "      <th>Product_Name</th>\n",
       "      <th>Purchase_Date</th>\n",
       "      <th>Purchase_Amount</th>\n",
       "      <th>Payment_Method</th>\n",
       "      <th>Discount_Applied</th>\n",
       "      <th>Rating</th>\n",
       "      <th>Repeat_Customer</th>\n",
       "    </tr>\n",
       "  </thead>\n",
       "  <tbody>\n",
       "    <tr>\n",
       "      <th>0</th>\n",
       "      <td>84607c1f-910c-44d5-b89f-e1ee06dd34c0</td>\n",
       "      <td>49</td>\n",
       "      <td>Female</td>\n",
       "      <td>New Cynthia</td>\n",
       "      <td>Electronics</td>\n",
       "      <td>Smartphone</td>\n",
       "      <td>2024-08-30</td>\n",
       "      <td>253.26</td>\n",
       "      <td>Cash on Delivery</td>\n",
       "      <td>No</td>\n",
       "      <td>1</td>\n",
       "      <td>Yes</td>\n",
       "    </tr>\n",
       "    <tr>\n",
       "      <th>1</th>\n",
       "      <td>f2a81712-a73e-4424-8b39-4c615a0bd4ea</td>\n",
       "      <td>36</td>\n",
       "      <td>Other</td>\n",
       "      <td>Cruzport</td>\n",
       "      <td>Clothing</td>\n",
       "      <td>T-Shirt</td>\n",
       "      <td>2024-12-21</td>\n",
       "      <td>73.19</td>\n",
       "      <td>Debit Card</td>\n",
       "      <td>Yes</td>\n",
       "      <td>1</td>\n",
       "      <td>No</td>\n",
       "    </tr>\n",
       "    <tr>\n",
       "      <th>2</th>\n",
       "      <td>da9be287-8b0e-4688-bccd-1a2cdd7567c6</td>\n",
       "      <td>52</td>\n",
       "      <td>Male</td>\n",
       "      <td>Jeffreytown</td>\n",
       "      <td>Beauty</td>\n",
       "      <td>Perfume</td>\n",
       "      <td>2024-12-26</td>\n",
       "      <td>125.62</td>\n",
       "      <td>Credit Card</td>\n",
       "      <td>Yes</td>\n",
       "      <td>1</td>\n",
       "      <td>No</td>\n",
       "    </tr>\n",
       "    <tr>\n",
       "      <th>3</th>\n",
       "      <td>50ec6932-3ac7-492f-9e55-4b148212f302</td>\n",
       "      <td>47</td>\n",
       "      <td>Female</td>\n",
       "      <td>Jenniferburgh</td>\n",
       "      <td>Electronics</td>\n",
       "      <td>Smartwatch</td>\n",
       "      <td>2024-11-04</td>\n",
       "      <td>450.32</td>\n",
       "      <td>Credit Card</td>\n",
       "      <td>No</td>\n",
       "      <td>2</td>\n",
       "      <td>Yes</td>\n",
       "    </tr>\n",
       "    <tr>\n",
       "      <th>4</th>\n",
       "      <td>8fdc3098-fc75-4b0f-983c-d8d8168c6362</td>\n",
       "      <td>43</td>\n",
       "      <td>Other</td>\n",
       "      <td>Kingshire</td>\n",
       "      <td>Electronics</td>\n",
       "      <td>Smartphone</td>\n",
       "      <td>2024-10-07</td>\n",
       "      <td>369.28</td>\n",
       "      <td>Credit Card</td>\n",
       "      <td>Yes</td>\n",
       "      <td>2</td>\n",
       "      <td>Yes</td>\n",
       "    </tr>\n",
       "  </tbody>\n",
       "</table>\n",
       "</div>"
      ],
      "text/plain": [
       "                            Customer_ID  Age  Gender           City  \\\n",
       "0  84607c1f-910c-44d5-b89f-e1ee06dd34c0   49  Female    New Cynthia   \n",
       "1  f2a81712-a73e-4424-8b39-4c615a0bd4ea   36   Other       Cruzport   \n",
       "2  da9be287-8b0e-4688-bccd-1a2cdd7567c6   52    Male    Jeffreytown   \n",
       "3  50ec6932-3ac7-492f-9e55-4b148212f302   47  Female  Jenniferburgh   \n",
       "4  8fdc3098-fc75-4b0f-983c-d8d8168c6362   43   Other      Kingshire   \n",
       "\n",
       "      Category Product_Name Purchase_Date  Purchase_Amount    Payment_Method  \\\n",
       "0  Electronics   Smartphone    2024-08-30           253.26  Cash on Delivery   \n",
       "1     Clothing      T-Shirt    2024-12-21            73.19        Debit Card   \n",
       "2       Beauty      Perfume    2024-12-26           125.62       Credit Card   \n",
       "3  Electronics   Smartwatch    2024-11-04           450.32       Credit Card   \n",
       "4  Electronics   Smartphone    2024-10-07           369.28       Credit Card   \n",
       "\n",
       "  Discount_Applied  Rating Repeat_Customer  \n",
       "0               No       1             Yes  \n",
       "1              Yes       1              No  \n",
       "2              Yes       1              No  \n",
       "3               No       2             Yes  \n",
       "4              Yes       2             Yes  "
      ]
     },
     "execution_count": 4,
     "metadata": {},
     "output_type": "execute_result"
    }
   ],
   "source": [
    "df.head()"
   ]
  },
  {
   "cell_type": "code",
   "execution_count": 5,
   "metadata": {
    "colab": {
     "base_uri": "https://localhost:8080/"
    },
    "id": "qqtbLJHY3Umy",
    "outputId": "b26f03a6-a618-45ac-a37c-4d78af729c70"
   },
   "outputs": [
    {
     "name": "stdout",
     "output_type": "stream",
     "text": [
      "<class 'pandas.core.frame.DataFrame'>\n",
      "RangeIndex: 50000 entries, 0 to 49999\n",
      "Data columns (total 12 columns):\n",
      " #   Column            Non-Null Count  Dtype         \n",
      "---  ------            --------------  -----         \n",
      " 0   Customer_ID       50000 non-null  object        \n",
      " 1   Age               50000 non-null  int64         \n",
      " 2   Gender            50000 non-null  object        \n",
      " 3   City              50000 non-null  object        \n",
      " 4   Category          50000 non-null  object        \n",
      " 5   Product_Name      50000 non-null  object        \n",
      " 6   Purchase_Date     50000 non-null  datetime64[ns]\n",
      " 7   Purchase_Amount   50000 non-null  float64       \n",
      " 8   Payment_Method    50000 non-null  object        \n",
      " 9   Discount_Applied  50000 non-null  object        \n",
      " 10  Rating            50000 non-null  int64         \n",
      " 11  Repeat_Customer   50000 non-null  object        \n",
      "dtypes: datetime64[ns](1), float64(1), int64(2), object(8)\n",
      "memory usage: 4.6+ MB\n"
     ]
    }
   ],
   "source": [
    "df.info()"
   ]
  },
  {
   "cell_type": "code",
   "execution_count": 6,
   "metadata": {
    "colab": {
     "base_uri": "https://localhost:8080/",
     "height": 300
    },
    "id": "ulco7TzH3Yci",
    "outputId": "e002b58b-83f6-4498-b8f9-a22223dbc20f"
   },
   "outputs": [
    {
     "data": {
      "text/html": [
       "<div>\n",
       "<style scoped>\n",
       "    .dataframe tbody tr th:only-of-type {\n",
       "        vertical-align: middle;\n",
       "    }\n",
       "\n",
       "    .dataframe tbody tr th {\n",
       "        vertical-align: top;\n",
       "    }\n",
       "\n",
       "    .dataframe thead th {\n",
       "        text-align: right;\n",
       "    }\n",
       "</style>\n",
       "<table border=\"1\" class=\"dataframe\">\n",
       "  <thead>\n",
       "    <tr style=\"text-align: right;\">\n",
       "      <th></th>\n",
       "      <th>Age</th>\n",
       "      <th>Purchase_Date</th>\n",
       "      <th>Purchase_Amount</th>\n",
       "      <th>Rating</th>\n",
       "    </tr>\n",
       "  </thead>\n",
       "  <tbody>\n",
       "    <tr>\n",
       "      <th>count</th>\n",
       "      <td>50000.000000</td>\n",
       "      <td>50000</td>\n",
       "      <td>50000.000000</td>\n",
       "      <td>50000.000000</td>\n",
       "    </tr>\n",
       "    <tr>\n",
       "      <th>mean</th>\n",
       "      <td>38.945220</td>\n",
       "      <td>2024-08-10 17:54:09.216000512</td>\n",
       "      <td>255.532230</td>\n",
       "      <td>2.998680</td>\n",
       "    </tr>\n",
       "    <tr>\n",
       "      <th>min</th>\n",
       "      <td>18.000000</td>\n",
       "      <td>2024-02-10 00:00:00</td>\n",
       "      <td>10.010000</td>\n",
       "      <td>1.000000</td>\n",
       "    </tr>\n",
       "    <tr>\n",
       "      <th>25%</th>\n",
       "      <td>28.000000</td>\n",
       "      <td>2024-05-11 00:00:00</td>\n",
       "      <td>133.050000</td>\n",
       "      <td>2.000000</td>\n",
       "    </tr>\n",
       "    <tr>\n",
       "      <th>50%</th>\n",
       "      <td>39.000000</td>\n",
       "      <td>2024-08-11 00:00:00</td>\n",
       "      <td>255.045000</td>\n",
       "      <td>3.000000</td>\n",
       "    </tr>\n",
       "    <tr>\n",
       "      <th>75%</th>\n",
       "      <td>50.000000</td>\n",
       "      <td>2024-11-10 00:00:00</td>\n",
       "      <td>378.912500</td>\n",
       "      <td>4.000000</td>\n",
       "    </tr>\n",
       "    <tr>\n",
       "      <th>max</th>\n",
       "      <td>60.000000</td>\n",
       "      <td>2025-02-09 00:00:00</td>\n",
       "      <td>499.990000</td>\n",
       "      <td>5.000000</td>\n",
       "    </tr>\n",
       "    <tr>\n",
       "      <th>std</th>\n",
       "      <td>12.398137</td>\n",
       "      <td>NaN</td>\n",
       "      <td>141.574416</td>\n",
       "      <td>1.417956</td>\n",
       "    </tr>\n",
       "  </tbody>\n",
       "</table>\n",
       "</div>"
      ],
      "text/plain": [
       "                Age                  Purchase_Date  Purchase_Amount  \\\n",
       "count  50000.000000                          50000     50000.000000   \n",
       "mean      38.945220  2024-08-10 17:54:09.216000512       255.532230   \n",
       "min       18.000000            2024-02-10 00:00:00        10.010000   \n",
       "25%       28.000000            2024-05-11 00:00:00       133.050000   \n",
       "50%       39.000000            2024-08-11 00:00:00       255.045000   \n",
       "75%       50.000000            2024-11-10 00:00:00       378.912500   \n",
       "max       60.000000            2025-02-09 00:00:00       499.990000   \n",
       "std       12.398137                            NaN       141.574416   \n",
       "\n",
       "             Rating  \n",
       "count  50000.000000  \n",
       "mean       2.998680  \n",
       "min        1.000000  \n",
       "25%        2.000000  \n",
       "50%        3.000000  \n",
       "75%        4.000000  \n",
       "max        5.000000  \n",
       "std        1.417956  "
      ]
     },
     "execution_count": 6,
     "metadata": {},
     "output_type": "execute_result"
    }
   ],
   "source": [
    "df.describe()"
   ]
  },
  {
   "cell_type": "code",
   "execution_count": 7,
   "metadata": {
    "colab": {
     "base_uri": "https://localhost:8080/",
     "height": 460
    },
    "id": "IC1ha0bv3c87",
    "outputId": "1bac4b01-eeba-4531-f442-20b271e56ca0"
   },
   "outputs": [
    {
     "data": {
      "text/plain": [
       "Customer_ID         0\n",
       "Age                 0\n",
       "Gender              0\n",
       "City                0\n",
       "Category            0\n",
       "Product_Name        0\n",
       "Purchase_Date       0\n",
       "Purchase_Amount     0\n",
       "Payment_Method      0\n",
       "Discount_Applied    0\n",
       "Rating              0\n",
       "Repeat_Customer     0\n",
       "dtype: int64"
      ]
     },
     "execution_count": 7,
     "metadata": {},
     "output_type": "execute_result"
    }
   ],
   "source": [
    "df.isnull().sum()\n"
   ]
  },
  {
   "cell_type": "code",
   "execution_count": 8,
   "metadata": {
    "colab": {
     "base_uri": "https://localhost:8080/"
    },
    "id": "9PHqZzWW3s5X",
    "outputId": "dfc258fa-90e3-4619-d707-e871b2260bb5"
   },
   "outputs": [
    {
     "data": {
      "text/plain": [
       "0"
      ]
     },
     "execution_count": 8,
     "metadata": {},
     "output_type": "execute_result"
    }
   ],
   "source": [
    "df.duplicated().sum()"
   ]
  },
  {
   "cell_type": "markdown",
   "metadata": {
    "id": "BxRVrilh6Pd3"
   },
   "source": [
    "1.Resumo Geral"
   ]
  },
  {
   "cell_type": "code",
   "execution_count": 10,
   "metadata": {
    "colab": {
     "base_uri": "https://localhost:8080/"
    },
    "id": "hkJOCUlm4hjO",
    "outputId": "f7cd3159-b2f9-44b5-9352-4bc3ba3442ad"
   },
   "outputs": [
    {
     "name": "stdout",
     "output_type": "stream",
     "text": [
      "Receita Total: R$12,776,611.48\n",
      "Total de Clientes: 50000\n",
      "Ticket Médio: R$255.53\n",
      "Clientes Recorrentes: 25244\n"
     ]
    }
   ],
   "source": [
    "# Receita total\n",
    "receita_total = df['Purchase_Amount'].sum()\n",
    "\n",
    "# Total de clientes únicos\n",
    "clientes_unicos = df['Customer_ID'].nunique()\n",
    "\n",
    "# Ticket médio\n",
    "ticket_medio = receita_total / clientes_unicos\n",
    "\n",
    "# Clientes recorrentes\n",
    "clientes_recorrentes = df[df['Repeat_Customer'] == 'Yes']['Customer_ID'].nunique()\n",
    "\n",
    "print(f\"Receita Total: R${receita_total:,.2f}\")\n",
    "print(f\"Total de Clientes: {clientes_unicos}\")\n",
    "print(f\"Ticket Médio: R${ticket_medio:,.2f}\")\n",
    "print(f\"Clientes Recorrentes: {clientes_recorrentes}\")"
   ]
  },
  {
   "cell_type": "code",
   "execution_count": 11,
   "metadata": {},
   "outputs": [],
   "source": [
    "imagens = []"
   ]
  },
  {
   "cell_type": "code",
   "execution_count": 12,
   "metadata": {},
   "outputs": [],
   "source": [
    "# --- Dados calculados ---\n",
    "receita_total = df['Purchase_Amount'].sum()\n",
    "clientes_unicos = df['Customer_ID'].nunique()\n",
    "ticket_medio = receita_total / clientes_unicos\n",
    "clientes_recorrentes = df[df['Repeat_Customer'] == 'Yes']['Customer_ID'].nunique()\n",
    "\n",
    "# --- Criar figura estilo KPI ---\n",
    "fig, ax = plt.subplots(figsize=(10, 3))\n",
    "fig.patch.set_facecolor('white')\n",
    "ax.axis('off')  # remove os eixos\n",
    "\n",
    "# Textos dos KPIs\n",
    "kpis = [\n",
    "    (\"Receita Total\", f\"R${receita_total:,.2f}\"),\n",
    "    (\"Clientes Únicos\", f\"{clientes_unicos:,}\"),\n",
    "    (\"Ticket Médio\", f\"R${ticket_medio:,.2f}\"),\n",
    "    (\"Clientes Recorrentes\", f\"{clientes_recorrentes:,}\")\n",
    "]\n",
    "\n",
    "# Mostrar os KPIs lado a lado\n",
    "for i, (titulo, valor) in enumerate(kpis):\n",
    "    ax.text(0.1 + i * 0.22, 0.6, titulo, fontsize=12, fontweight='bold', ha='center')\n",
    "    ax.text(0.1 + i * 0.22, 0.3, valor, fontsize=20, color='#007ACC', ha='center')\n",
    "\n",
    "plt.tight_layout()\n",
    "#plt.show()\n",
    "\n",
    "#Salvar como imagem na memória\n",
    "img_stream = BytesIO()\n",
    "plt.savefig(img_stream, format='png', bbox_inches='tight')\n",
    "img_stream.seek(0)\n",
    "imagens.append(img_stream)  # adiciona a imagem à lista de gráficos\n",
    "plt.close()  # limpa o gráfico atual"
   ]
  },
  {
   "cell_type": "markdown",
   "metadata": {
    "id": "oTbEbwtZ_mMg"
   },
   "source": [
    "2. Análises por Categoria e Produto"
   ]
  },
  {
   "cell_type": "code",
   "execution_count": 14,
   "metadata": {
    "colab": {
     "base_uri": "https://localhost:8080/",
     "height": 407
    },
    "id": "0e0jDY5g_tMR",
    "outputId": "5863a99c-b2dd-4564-a88e-667d2a22a2ad"
   },
   "outputs": [],
   "source": [
    "#Receita Total por Categoria\n",
    "\n",
    "plt.figure(figsize=(10,6))\n",
    "sns.barplot(data=df, x='Category', y='Purchase_Amount', estimator=sum, errorbar=None, hue='Category', palette='viridis', legend=False)\n",
    "plt.title(\"Receita Total por Categoria\")\n",
    "plt.ylabel(\"Receita ($)\")\n",
    "plt.xlabel(\"Categoria\")\n",
    "plt.xticks(rotation=45)\n",
    "plt.tight_layout()\n",
    "#plt.show()\n",
    "\n",
    "#Salvar como imagem na memória\n",
    "img_stream = BytesIO()\n",
    "plt.savefig(img_stream, format='png', bbox_inches='tight')\n",
    "img_stream.seek(0)\n",
    "imagens.append(img_stream)  # adiciona a imagem à lista de gráficos\n",
    "plt.close()  # limpa o gráfico atual"
   ]
  },
  {
   "cell_type": "code",
   "execution_count": 15,
   "metadata": {
    "colab": {
     "base_uri": "https://localhost:8080/",
     "height": 407
    },
    "id": "nZAdpF2hts-e",
    "outputId": "aaa8dc16-86a5-46b2-87ae-8ac8e4527888"
   },
   "outputs": [
    {
     "name": "stderr",
     "output_type": "stream",
     "text": [
      "C:\\Users\\jgmat\\AppData\\Local\\Temp\\ipykernel_14848\\904471648.py:3: FutureWarning: \n",
      "\n",
      "The `ci` parameter is deprecated. Use `errorbar=None` for the same effect.\n",
      "\n",
      "  sns.barplot(data=df, x='Category', y='Purchase_Amount', estimator=np.mean, ci=None, palette='coolwarm')\n",
      "C:\\Users\\jgmat\\AppData\\Local\\Temp\\ipykernel_14848\\904471648.py:3: FutureWarning: \n",
      "\n",
      "Passing `palette` without assigning `hue` is deprecated and will be removed in v0.14.0. Assign the `x` variable to `hue` and set `legend=False` for the same effect.\n",
      "\n",
      "  sns.barplot(data=df, x='Category', y='Purchase_Amount', estimator=np.mean, ci=None, palette='coolwarm')\n"
     ]
    }
   ],
   "source": [
    "#Ticket Médio por Categoria\n",
    "plt.figure(figsize=(10,6))\n",
    "sns.barplot(data=df, x='Category', y='Purchase_Amount', estimator=np.mean, ci=None, palette='coolwarm')\n",
    "plt.title(\"Ticket Médio por Categoria\")\n",
    "plt.ylabel(\"Valor Médio por Compra (R$)\")\n",
    "plt.xlabel(\"Categoria\")\n",
    "plt.xticks(rotation=45)\n",
    "plt.tight_layout()\n",
    "#plt.show()\n",
    "\n",
    "#Salvar como imagem na memória\n",
    "img_stream = BytesIO()\n",
    "plt.savefig(img_stream, format='png', bbox_inches='tight')\n",
    "img_stream.seek(0)\n",
    "imagens.append(img_stream)  # adiciona a imagem à lista de gráficos\n",
    "plt.close()  # limpa o gráfico atual"
   ]
  },
  {
   "cell_type": "code",
   "execution_count": 16,
   "metadata": {
    "colab": {
     "base_uri": "https://localhost:8080/",
     "height": 407
    },
    "id": "e9EO-6P-t2y_",
    "outputId": "4d41d4a9-b097-4a26-b93c-49de9ca0e3e8"
   },
   "outputs": [
    {
     "name": "stderr",
     "output_type": "stream",
     "text": [
      "C:\\Users\\jgmat\\AppData\\Local\\Temp\\ipykernel_14848\\899178496.py:5: FutureWarning: \n",
      "\n",
      "Passing `palette` without assigning `hue` is deprecated and will be removed in v0.14.0. Assign the `y` variable to `hue` and set `legend=False` for the same effect.\n",
      "\n",
      "  sns.barplot(x=top_produtos.values, y=top_produtos.index, palette='crest')\n"
     ]
    }
   ],
   "source": [
    "#Produtos mais vendidos (por quantidade de vendas)\n",
    "top_produtos = df['Product_Name'].value_counts().head(10)\n",
    "\n",
    "plt.figure(figsize=(10,6))\n",
    "sns.barplot(x=top_produtos.values, y=top_produtos.index, palette='crest')\n",
    "plt.title(\"Top 10 Produtos Mais Vendidos (Quantidade)\")\n",
    "plt.xlabel(\"Número de Vendas\")\n",
    "plt.ylabel(\"Produto\")\n",
    "plt.tight_layout()\n",
    "#plt.show()\n",
    "\n",
    "#Salvar como imagem na memória\n",
    "img_stream = BytesIO()\n",
    "plt.savefig(img_stream, format='png', bbox_inches='tight')\n",
    "img_stream.seek(0)\n",
    "imagens.append(img_stream)  # adiciona a imagem à lista de gráficos\n",
    "plt.close()  # limpa o gráfico atual"
   ]
  },
  {
   "cell_type": "code",
   "execution_count": 17,
   "metadata": {
    "colab": {
     "base_uri": "https://localhost:8080/",
     "height": 407
    },
    "id": "ORDxEICSuC53",
    "outputId": "f9b3500a-f817-46cc-beb7-3d977ab241b7"
   },
   "outputs": [
    {
     "name": "stderr",
     "output_type": "stream",
     "text": [
      "C:\\Users\\jgmat\\AppData\\Local\\Temp\\ipykernel_14848\\1856920343.py:5: FutureWarning: \n",
      "\n",
      "Passing `palette` without assigning `hue` is deprecated and will be removed in v0.14.0. Assign the `y` variable to `hue` and set `legend=False` for the same effect.\n",
      "\n",
      "  sns.barplot(x=produto_receita.values, y=produto_receita.index, palette='magma')\n"
     ]
    }
   ],
   "source": [
    "#Produtos com maior Receita Total\n",
    "produto_receita = df.groupby('Product_Name')['Purchase_Amount'].sum().sort_values(ascending=False).head(10)\n",
    "\n",
    "plt.figure(figsize=(10,6))\n",
    "sns.barplot(x=produto_receita.values, y=produto_receita.index, palette='magma')\n",
    "plt.title(\"Top 10 Produtos com Maior Receita\")\n",
    "plt.xlabel(\"Receita Total (R$)\")\n",
    "plt.ylabel(\"Produto\")\n",
    "plt.tight_layout()\n",
    "#plt.show()\n",
    "\n",
    "#Salvar como imagem na memória\n",
    "img_stream = BytesIO()\n",
    "plt.savefig(img_stream, format='png', bbox_inches='tight')\n",
    "img_stream.seek(0)\n",
    "imagens.append(img_stream)  # adiciona a imagem à lista de gráficos\n",
    "plt.close()  # limpa o gráfico atual"
   ]
  },
  {
   "cell_type": "code",
   "execution_count": 18,
   "metadata": {
    "colab": {
     "base_uri": "https://localhost:8080/",
     "height": 407
    },
    "id": "_FX996p3ugPR",
    "outputId": "752d1801-0385-42da-a372-ebedcc1d4d82"
   },
   "outputs": [
    {
     "name": "stderr",
     "output_type": "stream",
     "text": [
      "C:\\Users\\jgmat\\AppData\\Local\\Temp\\ipykernel_14848\\2273682797.py:5: FutureWarning: \n",
      "\n",
      "Passing `palette` without assigning `hue` is deprecated and will be removed in v0.14.0. Assign the `y` variable to `hue` and set `legend=False` for the same effect.\n",
      "\n",
      "  sns.barplot(x=produto_rating.values, y=produto_rating.index, palette='flare')\n"
     ]
    }
   ],
   "source": [
    "#Produtos com Melhor Avaliação (Rating)\n",
    "produto_rating = df.groupby('Product_Name')['Rating'].mean().sort_values(ascending=False).head(10)\n",
    "\n",
    "plt.figure(figsize=(10,6))\n",
    "sns.barplot(x=produto_rating.values, y=produto_rating.index, palette='flare')\n",
    "plt.title(\"Top 10 Produtos com Melhor Avaliação Média\")\n",
    "plt.xlabel(\"Avaliação Média\")\n",
    "plt.ylabel(\"Produto\")\n",
    "plt.tight_layout()\n",
    "#plt.show()\n",
    "\n",
    "#Salvar como imagem na memória\n",
    "img_stream = BytesIO()\n",
    "plt.savefig(img_stream, format='png', bbox_inches='tight')\n",
    "img_stream.seek(0)\n",
    "imagens.append(img_stream)  # adiciona a imagem à lista de gráficos\n",
    "plt.close()  # limpa o gráfico atual"
   ]
  },
  {
   "cell_type": "markdown",
   "metadata": {},
   "source": [
    "3. Top cities"
   ]
  },
  {
   "cell_type": "code",
   "execution_count": 20,
   "metadata": {},
   "outputs": [
    {
     "name": "stderr",
     "output_type": "stream",
     "text": [
      "C:\\Users\\jgmat\\AppData\\Local\\Temp\\ipykernel_14848\\2162860279.py:5: FutureWarning: \n",
      "\n",
      "Passing `palette` without assigning `hue` is deprecated and will be removed in v0.14.0. Assign the `y` variable to `hue` and set `legend=False` for the same effect.\n",
      "\n",
      "  sns.barplot(x=top_cities.values, y=top_cities.index, palette='muted')\n"
     ]
    }
   ],
   "source": [
    "#Cidades com Maior Receita\n",
    "top_cities = df.groupby('City')['Purchase_Amount'].sum().sort_values(ascending=False).head(10)\n",
    "\n",
    "plt.figure(figsize=(10,6))\n",
    "sns.barplot(x=top_cities.values, y=top_cities.index, palette='muted')\n",
    "plt.title(\"Top 10 Cidades com Maior Receita\")\n",
    "plt.xlabel(\"Receita Total R$\")\n",
    "plt.ylabel(\"Cidade\")\n",
    "plt.tight_layout()\n",
    "#plt.show()\n",
    "\n",
    "#Salvar como imagem na memória\n",
    "img_stream = BytesIO()\n",
    "plt.savefig(img_stream, format='png', bbox_inches='tight')\n",
    "img_stream.seek(0)\n",
    "imagens.append(img_stream)  # adiciona a imagem à lista de gráficos\n",
    "plt.close()  # limpa o gráfico atual"
   ]
  },
  {
   "cell_type": "code",
   "execution_count": 21,
   "metadata": {},
   "outputs": [],
   "source": [
    "#Top Cidades por Ticket Médio\n",
    "top_cidades = (\n",
    "    df.groupby(\"City\")[\"Purchase_Amount\"]\n",
    "    .mean()\n",
    "    .sort_values(ascending=False)\n",
    "    .head(10)\n",
    ")\n",
    "\n",
    "# Plotando com Matplotlib\n",
    "plt.figure(figsize=(10,6))\n",
    "top_cidades.plot(kind='barh', color='skyblue')\n",
    "plt.xlabel(\"Ticket Médio (R$)\")\n",
    "plt.title(\"Top 10 Cidades por Ticket Médio\")\n",
    "plt.gca().invert_yaxis()  # para mostrar o maior no topo\n",
    "plt.tight_layout()\n",
    "#plt.show()\n",
    "\n",
    "#Salvar como imagem na memória\n",
    "img_stream = BytesIO()\n",
    "plt.savefig(img_stream, format='png', bbox_inches='tight')\n",
    "img_stream.seek(0)\n",
    "imagens.append(img_stream)  # adiciona a imagem à lista de gráficos\n",
    "plt.close()  # limpa o gráfico atual\n"
   ]
  },
  {
   "cell_type": "code",
   "execution_count": 22,
   "metadata": {},
   "outputs": [],
   "source": [
    "# Ticket Médio por Cidade\n",
    "ticket_medio = (\n",
    "    df.groupby(\"City\")[\"Purchase_Amount\"]\n",
    "    .mean()\n",
    "    .sort_values(ascending=False)\n",
    ")\n",
    "\n",
    "plt.figure(figsize=(14,6))\n",
    "ticket_medio.plot(kind=\"line\", marker=\"o\")\n",
    "plt.title(\"Ticket Médio por Cidade (Ordenado)\")\n",
    "plt.xlabel(\"Cidade\")\n",
    "plt.ylabel(\"Ticket Médio (R$)\")\n",
    "plt.xticks(rotation=45)\n",
    "plt.grid(True)\n",
    "plt.tight_layout()\n",
    "#plt.show()\n",
    "\n",
    "#Salvar como imagem na memória\n",
    "img_stream = BytesIO()\n",
    "plt.savefig(img_stream, format='png', bbox_inches='tight')\n",
    "img_stream.seek(0)\n",
    "imagens.append(img_stream)  # adiciona a imagem à lista de gráficos\n",
    "plt.close()  # limpa o gráfico atual"
   ]
  },
  {
   "cell_type": "code",
   "execution_count": 23,
   "metadata": {},
   "outputs": [
    {
     "name": "stderr",
     "output_type": "stream",
     "text": [
      "C:\\Users\\jgmat\\AppData\\Local\\Temp\\ipykernel_14848\\2851255123.py:18: FutureWarning: \n",
      "\n",
      "Passing `palette` without assigning `hue` is deprecated and will be removed in v0.14.0. Assign the `y` variable to `hue` and set `legend=False` for the same effect.\n",
      "\n",
      "  sns.barplot(\n"
     ]
    }
   ],
   "source": [
    "# Top 10 cidades por receita\n",
    "top_cities = df.groupby(\"City\")[\"Purchase_Amount\"].sum().nlargest(10).index\n",
    "df_top = df[df[\"City\"].isin(top_cities)]\n",
    "\n",
    "# Proporção de clientes recorrentes por cidade\n",
    "repeat_rate = (\n",
    "    df_top.groupby([\"City\", \"Repeat_Customer\"])\n",
    "    .size()\n",
    "    .unstack(fill_value=0)\n",
    ")\n",
    "\n",
    "repeat_rate[\"Total\"] = repeat_rate.sum(axis=1)\n",
    "repeat_rate[\"% Recorrentes\"] = (repeat_rate[\"Yes\"] / repeat_rate[\"Total\"]) * 100\n",
    "repeat_rate = repeat_rate.sort_values(by=\"% Recorrentes\", ascending=False)\n",
    "\n",
    "# Plot\n",
    "plt.figure(figsize=(8, 6))\n",
    "sns.barplot(\n",
    "    x=\"% Recorrentes\",\n",
    "    y=repeat_rate.index,\n",
    "    data=repeat_rate.reset_index(),\n",
    "    palette=\"Greens_d\"\n",
    ")\n",
    "\n",
    "for i, v in enumerate(repeat_rate[\"% Recorrentes\"]):\n",
    "    plt.text(v - 2, i, f'{v:.1f}%', color='white', va='center', ha='right', fontweight='bold')\n",
    "\n",
    "plt.title(\"Clientes Recorrentes nas Top 10 Cidades por Receita\")\n",
    "plt.xlabel(\"Porcentagem de Clientes Recorrentes\")\n",
    "plt.ylabel(\"Cidade\")\n",
    "plt.tight_layout()\n",
    "#plt.show()\n",
    "\n",
    "#Salvar como imagem na memória\n",
    "img_stream = BytesIO()\n",
    "plt.savefig(img_stream, format='png', bbox_inches='tight')\n",
    "img_stream.seek(0)\n",
    "imagens.append(img_stream)  # adiciona a imagem à lista de gráficos\n",
    "plt.close()  # limpa o gráfico atual"
   ]
  },
  {
   "cell_type": "code",
   "execution_count": 24,
   "metadata": {},
   "outputs": [],
   "source": [
    "# Contagem por gênero\n",
    "genero_count = df_top.groupby([\"City\", \"Gender\"]).size().unstack(fill_value=0).reset_index()\n",
    "\n",
    "# Gráfico\n",
    "plt.figure(figsize=(10,6))\n",
    "sns.barplot(\n",
    "    data=genero_count.melt(id_vars=\"City\", value_name=\"Contagem\", var_name=\"Gênero\"),\n",
    "    x=\"City\", y=\"Contagem\", hue=\"Gênero\", palette=\"Set2\"\n",
    ")\n",
    "plt.title(\"Distribuição de Gênero nas Top 10 Cidades por Receita\")\n",
    "plt.xlabel(\"Cidade\")\n",
    "plt.ylabel(\"Número de Clientes\")\n",
    "plt.xticks(rotation=45)\n",
    "plt.legend(title=\"Gênero\")\n",
    "plt.tight_layout()\n",
    "#plt.show()\n",
    "\n",
    "#Salvar como imagem na memória\n",
    "img_stream = BytesIO()\n",
    "plt.savefig(img_stream, format='png', bbox_inches='tight')\n",
    "img_stream.seek(0)\n",
    "imagens.append(img_stream)  # adiciona a imagem à lista de gráficos\n",
    "plt.close()  # limpa o gráfico atual"
   ]
  },
  {
   "cell_type": "markdown",
   "metadata": {},
   "source": [
    "4. Comportamento do Cliente"
   ]
  },
  {
   "cell_type": "code",
   "execution_count": 26,
   "metadata": {},
   "outputs": [
    {
     "name": "stderr",
     "output_type": "stream",
     "text": [
      "C:\\Users\\jgmat\\AppData\\Local\\Temp\\ipykernel_14848\\1622783841.py:11: FutureWarning: \n",
      "\n",
      "Passing `palette` without assigning `hue` is deprecated and will be removed in v0.14.0. Assign the `x` variable to `hue` and set `legend=False` for the same effect.\n",
      "\n",
      "  sns.countplot(data=df, x='Gender', palette='pastel')\n"
     ]
    },
    {
     "data": {
      "image/png": "[encoded data removed]",
      "text/plain": [
       "<Figure size 1000x500 with 1 Axes>"
      ]
     },
     "metadata": {},
     "output_type": "display_data"
    }
   ],
   "source": [
    "# Distribuição por idade\n",
    "plt.figure(figsize=(10, 5))\n",
    "sns.histplot(data=df, x='Age', bins=10, kde=True, hue='Gender', multiple='stack')\n",
    "plt.title('Distribuição de Clientes por Idade e Gênero')\n",
    "plt.xlabel('Idade')\n",
    "plt.ylabel('Número de Clientes')\n",
    "#plt.show()\n",
    "\n",
    "# Contagem por Gênero\n",
    "plt.figure(figsize=(6, 4))\n",
    "sns.countplot(data=df, x='Gender', palette='pastel')\n",
    "plt.title('Distribuição de Clientes por Gênero')\n",
    "plt.ylabel('Número de Clientes')\n",
    "#plt.show()\n",
    "\n",
    "#Salvar como imagem na memória\n",
    "img_stream = BytesIO()\n",
    "plt.savefig(img_stream, format='png', bbox_inches='tight')\n",
    "img_stream.seek(0)\n",
    "imagens.append(img_stream)  # adiciona a imagem à lista de gráficos\n",
    "plt.close()  # limpa o gráfico atual"
   ]
  },
  {
   "cell_type": "code",
   "execution_count": 27,
   "metadata": {},
   "outputs": [
    {
     "name": "stdout",
     "output_type": "stream",
     "text": [
      "Taxa de clientes recorrentes: 50.49%\n"
     ]
    }
   ],
   "source": [
    "# Contagem de clientes únicos\n",
    "total_clientes = df['Customer_ID'].nunique()\n",
    "\n",
    "# Quantos clientes são recorrentes\n",
    "clientes_recorrentes = df[df['Repeat_Customer'] == 'Yes']['Customer_ID'].nunique()\n",
    "\n",
    "# Cálculo da taxa\n",
    "taxa_retorno = clientes_recorrentes / total_clientes * 100\n",
    "print(f'Taxa de clientes recorrentes: {taxa_retorno:.2f}%')\n"
   ]
  },
  {
   "cell_type": "code",
   "execution_count": 28,
   "metadata": {},
   "outputs": [],
   "source": [
    "labels = ['Recorrentes', 'Novos']\n",
    "sizes = [clientes_recorrentes, total_clientes - clientes_recorrentes]\n",
    "colors = ['#66b3ff', '#ffcc99']\n",
    "\n",
    "plt.figure(figsize=(6, 6))\n",
    "plt.pie(sizes, labels=labels, colors=colors, autopct='%.1f%%', startangle=140)\n",
    "plt.title('Proporção de Clientes Recorrentes')\n",
    "plt.axis('equal')\n",
    "#plt.show()\n",
    "\n",
    "#Salvar como imagem na memória\n",
    "img_stream = BytesIO()\n",
    "plt.savefig(img_stream, format='png', bbox_inches='tight')\n",
    "img_stream.seek(0)\n",
    "imagens.append(img_stream)  # adiciona a imagem à lista de gráficos\n",
    "plt.close()  # limpa o gráfico atual"
   ]
  },
  {
   "cell_type": "code",
   "execution_count": 29,
   "metadata": {},
   "outputs": [
    {
     "name": "stdout",
     "output_type": "stream",
     "text": [
      "Avaliação média dos produtos: 3.00\n"
     ]
    },
    {
     "name": "stderr",
     "output_type": "stream",
     "text": [
      "C:\\Users\\jgmat\\AppData\\Local\\Temp\\ipykernel_14848\\245520435.py:10: FutureWarning: \n",
      "\n",
      "Passing `palette` without assigning `hue` is deprecated and will be removed in v0.14.0. Assign the `x` variable to `hue` and set `legend=False` for the same effect.\n",
      "\n",
      "  sns.barplot(x=avaliacao_categoria.index, y=avaliacao_categoria.values, palette='viridis')\n"
     ]
    }
   ],
   "source": [
    "# Avaliação média geral\n",
    "media_geral = df['Rating'].mean()\n",
    "print(f'Avaliação média dos produtos: {media_geral:.2f}')\n",
    "\n",
    "# Avaliação média por categoria\n",
    "avaliacao_categoria = df.groupby('Category')['Rating'].mean().sort_values()\n",
    "\n",
    "# Gráfico\n",
    "plt.figure(figsize=(10, 5))\n",
    "sns.barplot(x=avaliacao_categoria.index, y=avaliacao_categoria.values, palette='viridis')\n",
    "plt.title('Avaliação Média por Categoria de Produto')\n",
    "plt.ylabel('Avaliação Média')\n",
    "plt.xlabel('Categoria')\n",
    "plt.ylim(0, 5)\n",
    "#plt.show()\n",
    "\n",
    "#Salvar como imagem na memória\n",
    "img_stream = BytesIO()\n",
    "plt.savefig(img_stream, format='png', bbox_inches='tight')\n",
    "img_stream.seek(0)\n",
    "imagens.append(img_stream)  # adiciona a imagem à lista de gráficos\n",
    "plt.close()  # limpa o gráfico atual"
   ]
  },
  {
   "cell_type": "markdown",
   "metadata": {},
   "source": [
    "5. Vendas ao Longo do Tempo"
   ]
  },
  {
   "cell_type": "code",
   "execution_count": 31,
   "metadata": {},
   "outputs": [],
   "source": [
    "# Converter a data\n",
    "df['Purchase_Date'] = pd.to_datetime(df['Purchase_Date'])\n",
    "\n",
    "# Criar colunas auxiliares para dia, semana, mês\n",
    "df['Dia'] = df['Purchase_Date'].dt.date\n",
    "df['Semana'] = df['Purchase_Date'].dt.to_period('W').apply(lambda r: r.start_time)\n",
    "df['Mes'] = df['Purchase_Date'].dt.to_period('M').apply(lambda r: r.start_time)\n",
    "\n",
    "# Agrupamento diário\n",
    "vendas_dia = df.groupby('Dia')['Purchase_Amount'].sum()\n",
    "\n",
    "# Agrupamento semanal\n",
    "vendas_semana = df.groupby('Semana')['Purchase_Amount'].sum()\n",
    "\n",
    "# Agrupamento mensal\n",
    "vendas_mes = df.groupby('Mes')['Purchase_Amount'].sum()\n",
    "\n",
    "# Gráficos\n",
    "import matplotlib.pyplot as plt\n",
    "\n",
    "plt.figure(figsize=(12, 4))\n",
    "plt.plot(vendas_dia, label='Diário', alpha=0.5)\n",
    "plt.plot(vendas_semana, label='Semanal', linewidth=2)\n",
    "plt.plot(vendas_mes, label='Mensal', linewidth=3)\n",
    "plt.title('Vendas ao Longo do Tempo')\n",
    "plt.xlabel('Data')\n",
    "plt.ylabel('Valor Total de Vendas')\n",
    "plt.legend()\n",
    "plt.tight_layout()\n",
    "#plt.show()\n",
    "\n",
    "#Salvar como imagem na memória\n",
    "img_stream = BytesIO()\n",
    "plt.savefig(img_stream, format='png', bbox_inches='tight')\n",
    "img_stream.seek(0)\n",
    "imagens.append(img_stream)  # adiciona a imagem à lista de gráficos\n",
    "plt.close()  # limpa o gráfico atual"
   ]
  },
  {
   "cell_type": "code",
   "execution_count": 32,
   "metadata": {},
   "outputs": [],
   "source": [
    "# Converter a data\n",
    "df['Purchase_Date'] = pd.to_datetime(df['Purchase_Date'])\n",
    "\n",
    "# Criar colunas auxiliares para dia, semana, mês\n",
    "df['Dia'] = df['Purchase_Date'].dt.date\n",
    "df['Semana'] = df['Purchase_Date'].dt.to_period('W').apply(lambda r: r.start_time)\n",
    "df['Mes'] = df['Purchase_Date'].dt.to_period('M').apply(lambda r: r.start_time)\n",
    "\n",
    "# Agrupamentos\n",
    "vendas_dia = df.groupby('Dia')['Purchase_Amount'].sum()\n",
    "vendas_semana = df.groupby('Semana')['Purchase_Amount'].sum()\n",
    "vendas_mes = df.groupby('Mes')['Purchase_Amount'].sum()\n"
   ]
  },
  {
   "cell_type": "code",
   "execution_count": 33,
   "metadata": {},
   "outputs": [],
   "source": [
    "# Converter Purchase_Date para datetime\n",
    "df['Purchase_Date'] = pd.to_datetime(df['Purchase_Date'])\n",
    "\n",
    "# Colunas auxiliares para dia, semana, mês\n",
    "df['Dia'] = df['Purchase_Date'].dt.date\n",
    "df['Semana'] = df['Purchase_Date'].dt.to_period('W').apply(lambda r: r.start_time)\n",
    "df['Mes'] = df['Purchase_Date'].dt.to_period('M').apply(lambda r: r.start_time)\n",
    "\n",
    "# Coluna dia do mês e dia da semana (nome)\n",
    "df['DiaDoMes'] = df['Purchase_Date'].dt.day\n",
    "df['DiaSemana'] = df['Purchase_Date'].dt.day_name()  # nomes em português se o locale estiver ok, senão será em inglês\n",
    "\n",
    "# Agrupamentos\n",
    "vendas_dia = df.groupby('Dia')['Purchase_Amount'].sum()\n",
    "vendas_semana = df.groupby('Semana')['Purchase_Amount'].sum()\n",
    "vendas_mes = df.groupby('Mes')['Purchase_Amount'].sum()\n",
    "\n",
    "# Agrupar dia do mês\n",
    "vendas_por_dia_mes = df.groupby('DiaDoMes')['Purchase_Amount'].sum()\n",
    "\n",
    "# Agrupar dia da semana (ordem padrão segunda=0 até domingo=6)\n",
    "dias_ordem = ['Monday', 'Tuesday', 'Wednesday', 'Thursday', 'Friday', 'Saturday', 'Sunday']\n",
    "vendas_por_dia_semana = df.groupby('DiaSemana')['Purchase_Amount'].sum().reindex(dias_ordem)\n",
    "\n",
    "# --- Gráficos ---\n",
    "\n",
    "fig, axs = plt.subplots(4, 1, figsize=(14, 14))\n",
    "\n",
    "# 1. Vendas diárias com pontos e linha\n",
    "axs[0].plot(vendas_dia.index, vendas_dia.values, marker='o', linestyle='-', color='gray', alpha=0.7)\n",
    "axs[0].set_title('Vendas Diárias')\n",
    "axs[0].set_ylabel('Total (R$)')\n",
    "axs[0].tick_params(axis='x', rotation=45)\n",
    "\n",
    "# 2. Vendas por dia do mês (eixo X com números 1 a 31)\n",
    "axs[1].plot(vendas_por_dia_mes.index, vendas_por_dia_mes.values, marker='o', linestyle='-', color='blue')\n",
    "axs[1].set_title('Vendas por Dia do Mês')\n",
    "axs[1].set_xlabel('Dia do Mês')\n",
    "axs[1].set_ylabel('Total (R$)')\n",
    "axs[1].set_xticks(range(1,32))\n",
    "\n",
    "# 3. Vendas por dia da semana (em ordem)\n",
    "axs[2].bar(vendas_por_dia_semana.index, vendas_por_dia_semana.values, color='green', alpha=0.7)\n",
    "axs[2].set_title('Vendas por Dia da Semana')\n",
    "axs[2].set_xlabel('Dia da Semana')\n",
    "axs[2].set_ylabel('Total (R$)')\n",
    "axs[2].tick_params(axis='x', rotation=45)\n",
    "\n",
    "# 4. Vendas mensais com linha e pontos\n",
    "axs[3].plot(vendas_mes.index, vendas_mes.values, marker='o', linestyle='-', color='purple')\n",
    "axs[3].set_title('Vendas Mensais')\n",
    "axs[3].set_xlabel('Data')\n",
    "axs[3].set_ylabel('Total (R$)')\n",
    "axs[3].tick_params(axis='x', rotation=45)\n",
    "\n",
    "plt.tight_layout()\n",
    "#plt.show()\n",
    "\n",
    "#Salvar como imagem na memória\n",
    "img_stream = BytesIO()\n",
    "plt.savefig(img_stream, format='png', bbox_inches='tight')\n",
    "img_stream.seek(0)\n",
    "imagens.append(img_stream)  # adiciona a imagem à lista de gráficos\n",
    "plt.close()  # limpa o gráfico atual"
   ]
  },
  {
   "cell_type": "code",
   "execution_count": 34,
   "metadata": {},
   "outputs": [
    {
     "name": "stdout",
     "output_type": "stream",
     "text": [
      "Média com desconto: R$255.58\n",
      "Média sem desconto: R$255.49\n"
     ]
    }
   ],
   "source": [
    "# Ajustar coluna de desconto para booleano\n",
    "df['Desconto'] = df['Discount_Applied'].map({'Yes': True, 'No': False})\n",
    "\n",
    "# Comparar valores médios de vendas\n",
    "vendas_com_desconto = df[df['Desconto']]['Purchase_Amount']\n",
    "vendas_sem_desconto = df[~df['Desconto']]['Purchase_Amount']\n",
    "\n",
    "# Boxplot com correção do FutureWarning\n",
    "plt.figure(figsize=(6, 5))\n",
    "ax = sns.boxplot(\n",
    "    data=df,\n",
    "    x='Discount_Applied',\n",
    "    y='Purchase_Amount',\n",
    "    hue='Discount_Applied',  # <- necessário para o palette funcionar sem warning\n",
    "    palette='coolwarm',\n",
    "    showmeans=True,\n",
    "    meanprops={\"marker\": \"o\", \"markerfacecolor\": \"white\", \"markeredgecolor\": \"black\"},\n",
    "    legend=False  # <- oculta legenda duplicada\n",
    ")\n",
    "\n",
    "# Título e rótulos\n",
    "plt.title('Efeito de Descontos no Valor das Compras')\n",
    "plt.xlabel('Desconto Aplicado')\n",
    "plt.ylabel('Valor da Compra')\n",
    "\n",
    "# Adicionar média como anotação no gráfico\n",
    "media_com = vendas_com_desconto.mean()\n",
    "media_sem = vendas_sem_desconto.mean()\n",
    "\n",
    "ax.text(0, media_com, f\"R${media_com:.2f}\", ha='center', va='bottom', fontsize=9, color='black')\n",
    "ax.text(1, media_sem, f\"R${media_sem:.2f}\", ha='center', va='bottom', fontsize=9, color='black')\n",
    "\n",
    "plt.tight_layout()\n",
    "#plt.show()\n",
    "\n",
    "# Impressão das médias\n",
    "print(f\"Média com desconto: R${media_com:.2f}\")\n",
    "print(f\"Média sem desconto: R${media_sem:.2f}\")\n",
    "\n",
    "#Salvar como imagem na memória\n",
    "img_stream = BytesIO()\n",
    "plt.savefig(img_stream, format='png', bbox_inches='tight')\n",
    "img_stream.seek(0)\n",
    "imagens.append(img_stream)  # adiciona a imagem à lista de gráficos\n",
    "plt.close()  # limpa o gráfico atual"
   ]
  },
  {
   "cell_type": "markdown",
   "metadata": {},
   "source": [
    "6. Forma de Pagamento"
   ]
  },
  {
   "cell_type": "code",
   "execution_count": 36,
   "metadata": {},
   "outputs": [
    {
     "name": "stderr",
     "output_type": "stream",
     "text": [
      "C:\\Users\\jgmat\\AppData\\Local\\Temp\\ipykernel_14848\\2105041386.py:3: FutureWarning: \n",
      "\n",
      "Passing `palette` without assigning `hue` is deprecated and will be removed in v0.14.0. Assign the `x` variable to `hue` and set `legend=False` for the same effect.\n",
      "\n",
      "  sns.countplot(data=df, x='Payment_Method', order=df['Payment_Method'].value_counts().index, palette='Set2')\n"
     ]
    }
   ],
   "source": [
    "# Contagem por método\n",
    "plt.figure(figsize=(8, 5))\n",
    "sns.countplot(data=df, x='Payment_Method', order=df['Payment_Method'].value_counts().index, palette='Set2')\n",
    "plt.title('Métodos de Pagamento Mais Usados')\n",
    "plt.xlabel('Método de Pagamento')\n",
    "plt.ylabel('Número de Compras')\n",
    "plt.xticks(rotation=45)\n",
    "plt.tight_layout()\n",
    "#plt.show()\n",
    "\n",
    "#Salvar como imagem na memória\n",
    "img_stream = BytesIO()\n",
    "plt.savefig(img_stream, format='png', bbox_inches='tight')\n",
    "img_stream.seek(0)\n",
    "imagens.append(img_stream)  # adiciona a imagem à lista de gráficos\n",
    "plt.close()  # limpa o gráfico atual"
   ]
  },
  {
   "cell_type": "code",
   "execution_count": 37,
   "metadata": {},
   "outputs": [
    {
     "name": "stderr",
     "output_type": "stream",
     "text": [
      "C:\\Users\\jgmat\\AppData\\Local\\Temp\\ipykernel_14848\\1419182706.py:6: FutureWarning: \n",
      "\n",
      "Passing `palette` without assigning `hue` is deprecated and will be removed in v0.14.0. Assign the `x` variable to `hue` and set `legend=False` for the same effect.\n",
      "\n",
      "  sns.barplot(x=ticket_medio.index, y=ticket_medio.values, palette='coolwarm')\n"
     ]
    },
    {
     "name": "stdout",
     "output_type": "stream",
     "text": [
      "Payment_Method\n",
      "Debit Card          254.935429\n",
      "Credit Card         255.243348\n",
      "Cash on Delivery    255.744024\n",
      "UPI                 256.217275\n",
      "Name: Purchase_Amount, dtype: float64\n"
     ]
    }
   ],
   "source": [
    "# Agrupar e calcular média\n",
    "ticket_medio = df.groupby('Payment_Method')['Purchase_Amount'].mean().sort_values()\n",
    "\n",
    "# Gráfico de barras\n",
    "plt.figure(figsize=(8, 5))\n",
    "sns.barplot(x=ticket_medio.index, y=ticket_medio.values, palette='coolwarm')\n",
    "plt.title('Ticket Médio por Método de Pagamento')\n",
    "plt.xlabel('Método de Pagamento')\n",
    "plt.ylabel('Ticket Médio (R$)')\n",
    "plt.xticks(rotation=45)\n",
    "plt.tight_layout()\n",
    "#plt.show()\n",
    "\n",
    "# Mostrar valores\n",
    "print(ticket_medio)\n",
    "\n",
    "#Salvar como imagem na memória\n",
    "img_stream = BytesIO()\n",
    "plt.savefig(img_stream, format='png', bbox_inches='tight')\n",
    "img_stream.seek(0)\n",
    "imagens.append(img_stream)  # adiciona a imagem à lista de gráficos\n",
    "plt.close()  # limpa o gráfico atual"
   ]
  },
  {
   "cell_type": "code",
   "execution_count": 38,
   "metadata": {},
   "outputs": [
    {
     "name": "stdout",
     "output_type": "stream",
     "text": [
      "Requirement already satisfied: python-pptx in d:\\programs\\anaconda\\lib\\site-packages (1.0.2)\n",
      "Requirement already satisfied: Pillow>=3.3.2 in d:\\programs\\anaconda\\lib\\site-packages (from python-pptx) (10.4.0)\n",
      "Requirement already satisfied: XlsxWriter>=0.5.7 in d:\\programs\\anaconda\\lib\\site-packages (from python-pptx) (3.2.3)\n",
      "Requirement already satisfied: lxml>=3.1.0 in d:\\programs\\anaconda\\lib\\site-packages (from python-pptx) (5.2.1)\n",
      "Requirement already satisfied: typing-extensions>=4.9.0 in d:\\programs\\anaconda\\lib\\site-packages (from python-pptx) (4.11.0)\n"
     ]
    }
   ],
   "source": [
    "!pip install python-pptx\n",
    "from pptx import Presentation\n",
    "from pptx.util import Inches\n",
    "from io import BytesIO"
   ]
  },
  {
   "cell_type": "code",
   "execution_count": 39,
   "metadata": {},
   "outputs": [],
   "source": [
    "# Create a new presentation\n",
    "prs = Presentation()\n",
    "\n",
    "# Define slide layout - 5 = Title Only, or use 6 = Blank (better for images)\n",
    "blank_slide_layout = prs.slide_layouts[6]\n",
    "\n",
    "# Loop through your list of image streams (imagens)\n",
    "for i, img_stream in enumerate(imagens):\n",
    "    slide = prs.slides.add_slide(blank_slide_layout)\n",
    "    \n",
    "    # Add image to slide, position and size in inches\n",
    "    left = Inches(1)\n",
    "    top = Inches(1)\n",
    "    width = Inches(8)  # adjust as needed to fit your slide\n",
    "    \n",
    "    slide.shapes.add_picture(img_stream, Inches(0.5), Inches(0.5), width=Inches(6))\n",
    "\n",
    "# Save the presentation\n",
    "prs.save('Walmart_Analysis_Presentation.pptx')\n"
   ]
  }
 ],
 "metadata": {
  "colab": {
   "provenance": []
  },
  "kernelspec": {
   "display_name": "Python [conda env:base] *",
   "language": "python",
   "name": "conda-base-py"
  },
  "language_info": {
   "codemirror_mode": {
    "name": "ipython",
    "version": 3
   },
   "file_extension": ".py",
   "mimetype": "text/x-python",
   "name": "python",
   "nbconvert_exporter": "python",
   "pygments_lexer": "ipython3",
   "version": "3.12.7"
  }
 },
 "nbformat": 4,
 "nbformat_minor": 4
}
